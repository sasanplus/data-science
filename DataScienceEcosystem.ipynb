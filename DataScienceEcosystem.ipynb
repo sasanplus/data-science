{
 "cells": [
  {
   "cell_type": "markdown",
   "id": "3ba8f9b4-b64e-4c89-8f71-48088614e06a",
   "metadata": {},
   "source": [
    "# Data Science Tools and Ecosystem"
   ]
  },
  {
   "cell_type": "markdown",
   "id": "d481abf6-6e79-4d41-a713-aee73da43002",
   "metadata": {},
   "source": [
    "In this notebook, Data Science Tools and Ecosystem are summarized."
   ]
  },
  {
   "cell_type": "markdown",
   "id": "b6453dfc-081c-4478-a6f4-5d89e3bb50bd",
   "metadata": {},
   "source": [
    "**Objectives:**"
   ]
  },
  {
   "cell_type": "markdown",
   "id": "f2cd9823-7af2-443f-b7ab-e508867b25ca",
   "metadata": {},
   "source": [
    "- List popular languages for Data Science\n",
    "- Create a simple table\n",
    "- Write simple arithmatic code"
   ]
  },
  {
   "cell_type": "markdown",
   "id": "86ab6b98-d2bf-4c9e-aa4d-d901d7261256",
   "metadata": {},
   "source": [
    "Some of the popular languages that Data Scientists use are:"
   ]
  },
  {
   "cell_type": "markdown",
   "id": "d9fd8b95-a950-49cb-a71a-2e68537504c7",
   "metadata": {},
   "source": [
    "1. Python\n",
    "2. R\n",
    "3. Julia"
   ]
  },
  {
   "cell_type": "markdown",
   "id": "be9934b6-79fc-4ba7-96a5-7d1c3d72b0f0",
   "metadata": {},
   "source": [
    "Some of the commonly used libraries used by Data Scientists include:"
   ]
  },
  {
   "cell_type": "markdown",
   "id": "825c6d2a-1439-467b-85e4-85533a60c069",
   "metadata": {},
   "source": [
    "1. TensorFlow\n",
    "2. SciPy\n",
    "3. Pandas"
   ]
  },
  {
   "cell_type": "markdown",
   "id": "643ae2b1-6e84-42be-b0b3-fc9ec92ee6f5",
   "metadata": {},
   "source": [
    "|Data Science Tools| \n",
    "--------------------\n",
    "|Jupyter|\n",
    "|RStudio|\n",
    "|Visual Studio|"
   ]
  },
  {
   "cell_type": "markdown",
   "id": "d24fcd0e-c1b6-4f52-9595-a404cf52933b",
   "metadata": {},
   "source": [
    "Below are a few examples of evaluating arithmetic expressions in Python"
   ]
  },
  {
   "cell_type": "markdown",
   "id": "fa04513a-dc46-417d-a8c9-2f030147c02b",
   "metadata": {},
   "source": [
    "==\n",
    "!=\n",
    "eval()"
   ]
  },
  {
   "cell_type": "markdown",
   "id": "6479bd7d-95a2-4c4a-872e-212b818a0518",
   "metadata": {},
   "source": [
    "This a simple arithmetic expression to mutiply then add integers"
   ]
  },
  {
   "cell_type": "code",
   "execution_count": 1,
   "id": "a1df54a8-7485-4231-9910-2f145b1d59ce",
   "metadata": {
    "tags": []
   },
   "outputs": [
    {
     "data": {
      "text/plain": [
       "17"
      ]
     },
     "execution_count": 1,
     "metadata": {},
     "output_type": "execute_result"
    }
   ],
   "source": [
    "(3*4)+5"
   ]
  },
  {
   "cell_type": "markdown",
   "id": "1ad9aea1-fcad-4956-ae3b-27be4cc5e263",
   "metadata": {},
   "source": [
    "This will convert 200 minutes to hours by diving by 60"
   ]
  },
  {
   "cell_type": "code",
   "execution_count": 2,
   "id": "f9cdde8f-0a62-43d9-84a4-c8d7ed2e2392",
   "metadata": {
    "tags": []
   },
   "outputs": [
    {
     "data": {
      "text/plain": [
       "3.3333333333333335"
      ]
     },
     "execution_count": 2,
     "metadata": {},
     "output_type": "execute_result"
    }
   ],
   "source": [
    "200/60"
   ]
  },
  {
   "cell_type": "markdown",
   "id": "25231012-bcee-4806-bac3-6a903c57c198",
   "metadata": {},
   "source": [
    "## Author\n",
    "name: Sasan Sahraei"
   ]
  },
  {
   "cell_type": "code",
   "execution_count": null,
   "id": "844ad5a7-b96c-4f54-af0b-a9f27dea2eb2",
   "metadata": {},
   "outputs": [],
   "source": []
  }
 ],
 "metadata": {
  "kernelspec": {
   "display_name": "Python",
   "language": "python",
   "name": "conda-env-python-py"
  },
  "language_info": {
   "codemirror_mode": {
    "name": "ipython",
    "version": 3
   },
   "file_extension": ".py",
   "mimetype": "text/x-python",
   "name": "python",
   "nbconvert_exporter": "python",
   "pygments_lexer": "ipython3",
   "version": "3.7.12"
  }
 },
 "nbformat": 4,
 "nbformat_minor": 5
}
